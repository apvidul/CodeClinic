{
  "nbformat": 4,
  "nbformat_minor": 0,
  "metadata": {
    "colab": {
      "provenance": [],
      "collapsed_sections": [
        "jTlPy0flsU5j"
      ],
      "authorship_tag": "ABX9TyOJZu7v018OQPJZFeu4QoJC",
      "include_colab_link": true
    },
    "kernelspec": {
      "name": "python3",
      "display_name": "Python 3"
    },
    "language_info": {
      "name": "python"
    }
  },
  "cells": [
    {
      "cell_type": "markdown",
      "metadata": {
        "id": "view-in-github",
        "colab_type": "text"
      },
      "source": [
        "<a href=\"https://colab.research.google.com/github/apvidul/CodeClinic/blob/main/TryCodingToday.ipynb\" target=\"_parent\"><img src=\"https://colab.research.google.com/assets/colab-badge.svg\" alt=\"Open In Colab\"/></a>"
      ]
    },
    {
      "cell_type": "markdown",
      "source": [
        "\n",
        "# **A 15-Minute Coding Adventure Tailored for Medical Professionals. No Prior Coding Experience Needed**\n",
        "\n",
        "![Intro](https://drive.google.com/uc?id=14pAiPzICodS8mybGda_NJzPYcuWpZU9k)\n",
        "\n",
        "\n",
        "**Disclaimer**:\n",
        "1. This notebook is not a comprehensive programming guide; it's designed to offer you an introduction to coding by covering a few fundamental concepts. For an in-depth course in Python Programming  , we recommend Harvard's CS50P course linked [here](https://cs50.harvard.edu/python/2022/)\n",
        "2. Throughout this notebook, we've chosen to use simplified terminology to make coding concepts more accessible, especially for beginners\n",
        "\n",
        "Hi there! Welcome to Code Clinic!\n",
        "\n",
        "Coding, in simple terms is providing the computer with step-by-step instructions to perform specific tasks. You can think of it as giving commands in a language that computers can understand. In this tutorial, we'll work with a simple and easy to follow programming language called Python."
      ],
      "metadata": {
        "id": "pyvO3ohb0iFN"
      }
    },
    {
      "cell_type": "markdown",
      "source": [
        ">**Objective: To Code an Automated BMI Assistant that interacts with users, computes their BMI, and provides personalized suggestions**\n"
      ],
      "metadata": {
        "id": "SJs55mohww3P"
      }
    },
    {
      "cell_type": "markdown",
      "source": [
        "![unassebled](https://drive.google.com/uc?id=1eubIuim6VsbII3gKnFZIDVO_JouTNeNo)\n",
        "\n",
        "**Programming languages are like your toolbox for creating computer programs. Think of it as building with blocks - we'll show you each block one by one and help you build an automated BMI assistant by the end of this notebook.**\n",
        "\n",
        "**Within each section below, you'll find hidden cells containing programming components. To access them, simply click on the hidden cell**"
      ],
      "metadata": {
        "id": "l45FtpgWYxU2"
      }
    },
    {
      "cell_type": "markdown",
      "source": [
        "\n",
        "#**Print: Your Code Can Talk!** ![display](https://drive.google.com/uc?id=1P07PI74uQ8FrhFiFXSi2DZzpB1ix5FY0)\n",
        "\n",
        "To make a program interactive, it's essential to communicate with the user.  One common approach is through displaying text on the screen. The print command, as you'll soon see, is your tool to make your program talk.\n",
        "  \n",
        " The following code instructs the computer to take the text enclosed within the parentheses and display it on the screen.\n",
        "  \n",
        "  >**To run the code, hover your cursor over the gray code cell below. At the beginning of the cell, you'll notice a play button — Simply click on it to execute the code.**\n",
        "\n"
      ],
      "metadata": {
        "id": "iLa3n6T2ma1X"
      }
    },
    {
      "cell_type": "code",
      "source": [
        "print(\"Hello there!\")"
      ],
      "metadata": {
        "colab": {
          "base_uri": "https://localhost:8080/"
        },
        "id": "naQh2VqtoVrD",
        "outputId": "e9afd172-53cf-4c24-cbd4-14a79790b931"
      },
      "execution_count": null,
      "outputs": [
        {
          "output_type": "stream",
          "name": "stdout",
          "text": [
            "Hello there!\n"
          ]
        }
      ]
    },
    {
      "cell_type": "markdown",
      "source": [
        "Do you notice *Hello there!* appearing in the output cell? If so, well done! You've just successfully run your first code!\n",
        "\n",
        "Now, whenever you want to display a message on the screen, just enclose the message within parentheses, and the `print` command will handle the rest.\n",
        "\n",
        "![unassebled](https://drive.google.com/uc?id=1jlQpcg2jEqukVmhmZHkpSZjkwGkCgp52)\n"
      ],
      "metadata": {
        "id": "KVFgu6BjZxJZ"
      }
    },
    {
      "cell_type": "markdown",
      "source": [
        "> **Task 1**: Feel free to experiment by writing your own print commands in the code cell below. As you may have noticed, the gray box you are working in is commonly referred to as a `code cell`. When you execute your code, you will observe the results displayed in a white box directly beneath it, known as the `output cell`."
      ],
      "metadata": {
        "id": "ETQE8tLd6YSb"
      }
    },
    {
      "cell_type": "code",
      "source": [
        "print(\"\")\n",
        "print(\"\")"
      ],
      "metadata": {
        "colab": {
          "base_uri": "https://localhost:8080/"
        },
        "id": "HkNshgYSyCcm",
        "outputId": "1701acaa-40d7-4aac-d66f-11040ef938de"
      },
      "execution_count": null,
      "outputs": [
        {
          "output_type": "stream",
          "name": "stdout",
          "text": [
            "\n",
            "\n"
          ]
        }
      ]
    },
    {
      "cell_type": "markdown",
      "source": [
        "#**Operations: Your Toolkit to Operate on Data** ![body](https://drive.google.com/uc?id=17NbbcCGknEESw5wCiXu9J_fnYD6aMt5Z)\n",
        "\n",
        "Python's extensive set of operations enables you to perform a wide range of actions and calculations on the data. In this section, we'll explore few of them below.\n"
      ],
      "metadata": {
        "id": "koNBoEABA9Nd"
      }
    },
    {
      "cell_type": "markdown",
      "source": [
        "## **Arithmetic Operations**\n",
        "You can carry out essential mathematical operations using **arithmetic operators**. Explore arithmetic operators like '`+`' for addition, '`*`' for multiplication, and '`/`' for division by running the code below.\n",
        "\n",
        "Note: Please keep in mind that this is not an exhaustive list of arithmetic operators, as we only cover what we need to build the BMI assistant."
      ],
      "metadata": {
        "id": "jTlPy0flsU5j"
      }
    },
    {
      "cell_type": "code",
      "source": [
        "print(1 + 2)\n",
        "print(3 * 2)\n",
        "print(5 / 2)\n",
        "print(5 / (1 + 1))"
      ],
      "metadata": {
        "colab": {
          "base_uri": "https://localhost:8080/"
        },
        "id": "HIub0Gdrs9hV",
        "outputId": "3e192fa5-c7cd-49d0-ff56-40f3a1358cb8"
      },
      "execution_count": 10,
      "outputs": [
        {
          "output_type": "stream",
          "name": "stdout",
          "text": [
            "3\n",
            "6\n",
            "2.5\n",
            "2.5\n"
          ]
        }
      ]
    },
    {
      "cell_type": "markdown",
      "source": [
        "If you want to ensure that a specific arithmetic operation takes precedence, simply place the operation within parentheses. For instance, in `5 / (1 + 1)`\n",
        "we need to perform 1 + 1 first.\n",
        "\n",
        "After experimenting with the operators, feel free to take on the task below. **Each task will be followed by a corresponding solution, which you can reveal by clicking on the 'Show Code' button.**\n",
        "\n",
        "> **Task 2**: Let's use arithmetic operators to calculate a patient's BMI. Given that the patient has a height of 1.75 meters and a weight of 75 kilograms, write the code to compute the patient's BMI in the code cell below. The formula for calculating Body Mass Index is: `BMI = Weight (kg) / [Height (m)]²`"
      ],
      "metadata": {
        "id": "NyTCsP46ulcR"
      }
    },
    {
      "cell_type": "code",
      "source": [
        "# Lines starting with \"#\" character will be ignored when you run the code cell.\n",
        "# These lines are called COMMENTS and are used to document your code.\n",
        "# Write your BMI calculation code below\n"
      ],
      "metadata": {
        "id": "Fw0VXxkIkgFR"
      },
      "execution_count": 11,
      "outputs": []
    },
    {
      "cell_type": "code",
      "source": [
        "#@title Task 2 Solution\n",
        "# Write your code  to generate BMI below\n",
        "\n",
        "print(75 / (1.75 * 1.75))"
      ],
      "metadata": {
        "colab": {
          "base_uri": "https://localhost:8080/"
        },
        "id": "4P0qIG6ztE6k",
        "outputId": "59cdf5fb-e5ec-476d-ce96-187adec2adaf",
        "cellView": "form"
      },
      "execution_count": 12,
      "outputs": [
        {
          "output_type": "stream",
          "name": "stdout",
          "text": [
            "24.489795918367346\n"
          ]
        }
      ]
    },
    {
      "cell_type": "markdown",
      "source": [
        "\n",
        "![body](https://drive.google.com/uc?id=1xo7kiVxTQPknwHsj5YljJ_LFGQeVnHUR)\n",
        "\n",
        "Great! You've learned how to code arithmetic operations. As we progress, we'll build upon this knowledge to develop the BMI assistant.\n"
      ],
      "metadata": {
        "id": "JPBdRFbvwyvT"
      }
    },
    {
      "cell_type": "markdown",
      "source": [
        "#**Comparison Operations**\n",
        "Another important type of operation is the comparison operation which basically allow you to compare values. Some common comparison operators include 'greater than' (`>`), 'less than' (`<`), and 'equals' (`==`).\n",
        "\n",
        "Unlike arithmetic operations, which outputs numerical results, comparison operations generate a simpler outcome: either `True`or `False`. Go ahead and run the following code and observe their outputs.\n",
        "\n",
        "Note: Please keep in mind that this is not an exhaustive list of comparison operators"
      ],
      "metadata": {
        "id": "kC2DjLZPfjR2"
      }
    },
    {
      "cell_type": "code",
      "source": [
        "# You can also use this code cell to experiment with comparision operatons\n",
        "\n",
        "print(1 > 2)\n",
        "print(1 < 2)\n",
        "print(1 == 2)\n",
        "print((1 + 1) == 2)"
      ],
      "metadata": {
        "id": "5f_7gPZsflVm"
      },
      "execution_count": 3,
      "outputs": []
    },
    {
      "cell_type": "markdown",
      "source": [
        "> **Task 3**: Let's redo the BMI calculation from Task 2, but this time, let's check if the calculated BMI is greater than 24.9."
      ],
      "metadata": {
        "id": "1846VZWxi4dL"
      }
    },
    {
      "cell_type": "code",
      "source": [
        "# Write your code below. If you need help, you can click on \"Show Code\" below\n"
      ],
      "metadata": {
        "id": "CR5kCdF3nvPN"
      },
      "execution_count": null,
      "outputs": []
    },
    {
      "cell_type": "code",
      "source": [
        "# @title Task 3 Solution\n",
        "\n",
        "# Code breakdown\n",
        "# 75 / (1.75 * 1.75) calculates the BMI using arithmetic operators.\n",
        "# > 24.9 checks if the calculated BMI is greater than 24.9 using comparison operator.\n",
        "\n",
        "print(75 / (1.75 * 1.75) > 24.9)"
      ],
      "metadata": {
        "colab": {
          "base_uri": "https://localhost:8080/"
        },
        "id": "Q7FIStV4jOWu",
        "outputId": "a19e5502-a79e-49ef-bcf6-652d6dbac19a",
        "cellView": "form"
      },
      "execution_count": 4,
      "outputs": [
        {
          "output_type": "stream",
          "name": "stdout",
          "text": [
            "False\n"
          ]
        }
      ]
    },
    {
      "cell_type": "markdown",
      "source": [
        "![body2](https://drive.google.com/uc?id=1kG1QjWSHu_t8427dGOaQQPGEDc5hkbqK)\n",
        "\n",
        "Great job! To recap, you've learned how to use the print command, perform arithmetic operations, and use comparison operations. While there are more commands and operations out there, we are only covering the essentials needed to build our BMI assistant."
      ],
      "metadata": {
        "id": "KtwqA4b1scsR"
      }
    },
    {
      "cell_type": "markdown",
      "source": [
        "#**Variables: Your Storage Cabinet** ![variables](https://drive.google.com/uc?id=1S6r4_gc9wJhb7hD-PkrpudnU-LjHudiJ)\n",
        "\n",
        "In Task 3, we found ourselves recalculating the BMI, even though we had previously done so in Task 2. Recomputing every time we require a value is inefficient. Wouldn't it be convenient if we could just run it once and save the output value somewhere for future use?\n",
        "\n",
        "Introducing variables! You can think of a variable as a labeled storage cabinet tucked away in your computer's memory. This cabinet is capable of holding values, and you can easily retrieve those values by referring to the cabinet (aka variable) name."
      ],
      "metadata": {
        "id": "exz1Rk_2amoN"
      }
    },
    {
      "cell_type": "markdown",
      "source": [
        "\n",
        "In the code `variable_a = 10`, we store the value 10 in a cabinet and give it the name `variable_a`. We do this by specifying the variable name to the left of the assignment operator (denoted by '`=`'), and then we specify the value to be stored (*10*) to the right of the assignment operator.\n",
        "\n",
        "  ![variables](https://drive.google.com/uc?id=118KfA3NOTKIXxMaJ_eyFwWmuQ1WkTww-)\n"
      ],
      "metadata": {
        "id": "ehSXwi_I2oWE"
      }
    },
    {
      "cell_type": "code",
      "source": [
        "variable_a = 10\n",
        "\n",
        "# You can display the content of a variable using the 'print' command\n",
        "print(variable_a)"
      ],
      "metadata": {
        "colab": {
          "base_uri": "https://localhost:8080/"
        },
        "id": "fJKC5tOIalz0",
        "outputId": "25ace6a7-ae2b-4358-8bfc-af5b721d84da"
      },
      "execution_count": 14,
      "outputs": [
        {
          "output_type": "stream",
          "name": "stdout",
          "text": [
            "10\n"
          ]
        }
      ]
    },
    {
      "cell_type": "code",
      "source": [
        "# You can directly store the results of operations into a variable\n",
        "\n",
        "result = 10 + 10\n",
        "print(result)"
      ],
      "metadata": {
        "id": "VIcqRWn9lzWG"
      },
      "execution_count": 7,
      "outputs": []
    },
    {
      "cell_type": "markdown",
      "source": [
        "> **Practice**: Try creating your own variables to store values. Variable names can be anything as long as they start with a letter or underscore (_) and do not contain other punctuation.\n",
        "\n",
        ">Keep in mind that variable names are case-sensitive, so `variable_a` and `Variable_A` are considered different. There are also some reserved words like `True`, `False` which can't be used as variable names.\n",
        "\n",
        "Examples:\n",
        "\n",
        "*   `var_a, num_var, var_100, _var100` are all valid variable names\n",
        "*  ` 1var, var.a, a$var, a-var` are invalid variable names"
      ],
      "metadata": {
        "id": "Hxt2F2WjukMK"
      }
    },
    {
      "cell_type": "code",
      "source": [
        "# Try creating new variables, store values, and print them below\n"
      ],
      "metadata": {
        "id": "Fr_WY9EPvWCD"
      },
      "execution_count": 11,
      "outputs": []
    },
    {
      "cell_type": "markdown",
      "source": [
        "After creating a variable, you can treat it like any other value and perform the same operations and commands you've learned so far"
      ],
      "metadata": {
        "id": "nSyumUdxmi0S"
      }
    },
    {
      "cell_type": "code",
      "source": [
        "# You can perform operations on variables, just like you do on the values.\n",
        "\n",
        "variable_a = 10\n",
        "variable_b = 5\n",
        "\n",
        "result = variable_a + variable_b\n",
        "\n",
        "print(result)"
      ],
      "metadata": {
        "id": "oU3b43rJl2dW"
      },
      "execution_count": 2,
      "outputs": []
    },
    {
      "cell_type": "code",
      "source": [
        "# You can also print variables along with normal text as shown below\n",
        "\n",
        "variable_a = 10\n",
        "variable_b = 5\n",
        "\n",
        "result = variable_a + variable_b\n",
        "\n",
        "print(\"Value stored in variable a is:\", variable_a)\n",
        "print(\"Value stored in variable b is:\", variable_b)\n",
        "print(\"Sum of\", variable_a, \"and\", variable_b, \"is:\", result)"
      ],
      "metadata": {
        "id": "3JzARU2ZnMAe"
      },
      "execution_count": 7,
      "outputs": []
    },
    {
      "cell_type": "markdown",
      "source": [
        "\n",
        "\n",
        "\n",
        "> **Task 4**: Let's calculate the patient's BMI again, just like in Task 2. However, this time, create three variables: `height` to store patient height, `weight` to store patient weight, and `bmi` to store the computed BMI. We've already set initial values for `height` and `weight` for you. After computing the `BMI`, check if the value in it is greater than 24.9."
      ],
      "metadata": {
        "id": "S4FFUB-8cmjJ"
      }
    },
    {
      "cell_type": "code",
      "source": [
        "# It's good practice to use descriptive names for variables as it improves code readability\n",
        "# Complete the code below\n",
        "\n",
        "height = 1.75\n",
        "weight = 75"
      ],
      "metadata": {
        "id": "RDYOSHzfGrcu"
      },
      "execution_count": 1,
      "outputs": []
    },
    {
      "cell_type": "code",
      "source": [
        "# @title Task 4 Solution\n",
        "height = 1.75\n",
        "weight = 75\n",
        "\n",
        "bmi = weight / (height * height)\n",
        "\n",
        "print(bmi)\n",
        "\n",
        "print(bmi > 24.9)"
      ],
      "metadata": {
        "id": "9YFTzsx_oaLw",
        "cellView": "form"
      },
      "execution_count": 9,
      "outputs": []
    },
    {
      "cell_type": "markdown",
      "source": [
        "\n",
        "Check if you've got the same output as before in Task 1 and Task 2.\n",
        "\n",
        "Excellent! Notice how the code got cleaner, more organized, and easier to understand. Congratulations, you're making real progress in programming!\n",
        "\n",
        "![variables](https://drive.google.com/uc?id=1n0qT1mpcwUrHeNAEjscsopU8WDLQYQvs)\n",
        "\n"
      ],
      "metadata": {
        "id": "I6dTfi5tqDL6"
      }
    },
    {
      "cell_type": "markdown",
      "source": [
        "#**if-else: Bringing logic to Your Code** ![brain](https://drive.google.com/uc?id=1ybpSD8XRaS9FwYinqL6iFYdd6jHD4lbX)\n",
        "\n",
        "Making decisions is an integral part of our daily lives.\n",
        "\n",
        ">Consider the scenario: In a medical clinic with a pediatrician and a general physician, a clinic nurse assesses arriving patients, determining which doctor they should see based on factors like age and established medical protocols. If the patient is under 18 years old, the nurse directs them to the pediatrician. If the patient is not under 18, they are directed to the general physician.\n",
        "\n",
        "The logic used by the clinic nurse can be simplified as follows\n",
        "\n",
        "```\n",
        "if ( patient age is less than 18):\n",
        "  Send patient to  pediatric specialist\n",
        "else:\n",
        "  Send patient to general physician\n",
        "```\n",
        "\n",
        "Similarly in Python, we use if else statements to grant computers a similar decision-making ability where we can define precise conditions that dictate specific actions to be taken:\n",
        "```\n",
        "if (condition):\n",
        "  do action1\n",
        "else:\n",
        "  do action2\n",
        "```\n",
        "if condition evaluates to True, action 1 will be carried out and if condition is False, action 2 will be carried out."
      ],
      "metadata": {
        "id": "weEryLCjpzQB"
      }
    },
    {
      "cell_type": "markdown",
      "source": [
        "![variables](https://drive.google.com/uc?id=1ZDk0qHHPS5xnV4T8k1LpBCneZ__muwFe)\n",
        "\n",
        "If you remember the comparision operations (`>,<,==`), they always result in `True` or `False`. We can try to simulate the clinic scenario using a combination of if-else with comparison operators.\n",
        "\n",
        ">**Practice**: Try changing the patient_age to values below and above 18 and observe how the outputs differ\n"
      ],
      "metadata": {
        "id": "qke7JrZZsBsA"
      }
    },
    {
      "cell_type": "code",
      "source": [
        "# Try changing the patient age below\n",
        "\n",
        "patient_age = 16\n",
        "\n",
        "if patient_age <18 :\n",
        "  print(\"Visit the pediatric specialist\")\n",
        "else:\n",
        "  print(\"Visit the general physician\")"
      ],
      "metadata": {
        "id": "ycP5oHLVpyVq"
      },
      "execution_count": 2,
      "outputs": []
    },
    {
      "cell_type": "markdown",
      "source": [
        ">**Task 5** : Let's take the height and weight measurements and store them in variables and calculate the BMI.\n",
        "1.  If the calculated BMI is greater than 24.9, display `The patient is either overweight or obese`\n",
        "2. If the calculated BMI is less than or equal to 24.9, display `The patient either has a normal weight or is underweight`"
      ],
      "metadata": {
        "id": "Nt113qzk5Tbw"
      }
    },
    {
      "cell_type": "code",
      "source": [
        "# Complete the code below\n",
        "height = 1.75\n",
        "weight = 75\n"
      ],
      "metadata": {
        "id": "U8ZI4YNEDRKi"
      },
      "execution_count": null,
      "outputs": []
    },
    {
      "cell_type": "code",
      "source": [
        "#@title Task 5 Solution\n",
        "# Complete the code below\n",
        "\n",
        "height = 1.75\n",
        "weight = 75\n",
        "\n",
        "bmi = weight/(height * height)\n",
        "\n",
        "\n",
        "if bmi > 24.9:\n",
        "  print(\"The patient is either overweight or obese\")\n",
        "else:\n",
        "  print(\"The patient either has a normal weight or is underweight\")"
      ],
      "metadata": {
        "id": "Xu2Z8v7G6MPb",
        "colab": {
          "base_uri": "https://localhost:8080/"
        },
        "cellView": "form",
        "outputId": "8730cf79-020f-4715-9454-f6da476c0b1a"
      },
      "execution_count": 3,
      "outputs": [
        {
          "output_type": "stream",
          "name": "stdout",
          "text": [
            "The patient either has a normal weight or is underweight\n"
          ]
        }
      ]
    },
    {
      "cell_type": "code",
      "source": [
        "#@title Task 5 Alternate Solution\n",
        "# Complete the code below\n",
        "\n",
        "height = 1.75\n",
        "weight = 75\n",
        "\n",
        "bmi = weight/(height * height)\n",
        "\n",
        "\n",
        "if bmi <= 24.9:\n",
        "  print(\"The patient either has a normal weight or is underweight\")\n",
        "else:\n",
        "  print(\"The patient is either overweight or obese\")"
      ],
      "metadata": {
        "colab": {
          "base_uri": "https://localhost:8080/"
        },
        "cellView": "form",
        "id": "IcTfYVCHYzfe",
        "outputId": "ee616ce6-186d-4965-bc18-acfccf93f305"
      },
      "execution_count": 4,
      "outputs": [
        {
          "output_type": "stream",
          "name": "stdout",
          "text": [
            "The patient either has a normal weight or is underweight\n"
          ]
        }
      ]
    },
    {
      "cell_type": "markdown",
      "source": [
        "Did the output turn out as expected? Excellent! Now, there's another powerful technique at our disposal - performing multiple comparisons in a single line. This is known as 'chained comparisons,' and it allows us to easily check if a value falls within a specific range.\n",
        "\n",
        "For example, in the code snippet below, for the condition `8.5 <= bmi < 24.9` to evaluate to True, both `18.5 <= bmi` and `bmi < 24.9` must independently evaluate to True as well\n",
        "\n",
        "> **Practice**: We can using the following logic for our BMI assistant to make it more informative. Feel free to experiment with the chained comparision operators in the cell below."
      ],
      "metadata": {
        "id": "3YA7JXDEvd18"
      }
    },
    {
      "cell_type": "code",
      "source": [
        "height = 1.75\n",
        "weight = 75\n",
        "\n",
        "bmi = weight / (height * height)\n",
        "\n",
        "\n",
        "if 18.5 <= bmi < 24.9:\n",
        "    print(\"Patient BMI is in the normal weight range\")\n",
        "else:\n",
        "    print(\"Patient BMI is out of normal weight range, consult doctor\")"
      ],
      "metadata": {
        "id": "Y4w0UkpY-V2Y"
      },
      "execution_count": 9,
      "outputs": []
    },
    {
      "cell_type": "markdown",
      "source": [
        "**Note**: `<=` is the \"less than or equal to\" comparision operator. Similarly, you also have `>=` that corresponds to \"greater than or equal to\". As you continue on your programming journey, you will discover more operators!"
      ],
      "metadata": {
        "id": "GoHTP9sWePfZ"
      }
    },
    {
      "cell_type": "markdown",
      "source": [
        "![flow_control](https://drive.google.com/uc?id=1NvYOAPOWLjq6gLkb3ehAFIJ6hklERzeg)\n",
        "\n",
        "Amazing job so far! Our BMI assistant is almost ready for deployment"
      ],
      "metadata": {
        "id": "urWjXAyGGq54"
      }
    },
    {
      "cell_type": "markdown",
      "source": [
        "#**input(): Collecting Data from Users** ![arm](https://drive.google.com/uc?id=1vPJqY8Gcfh8ThMbQMUm2qC_uQmufwjN1)\n",
        "\n",
        "Up until now, we've been manually assigning values to variables (storage cabinets). However, in real-world scenarios, we need to gather input from users. input() does just that. It serves as the bridge between programs and users, allowing you to collect data and build interactive programs.\n",
        "\n",
        "When you run the code cell below, the input() function will prompt you for input. Your response will be stored in the computer's memory which can be accessed using the variable `inp_value`"
      ],
      "metadata": {
        "id": "TMakmMht6MaR"
      }
    },
    {
      "cell_type": "code",
      "source": [
        "inp_value = input(\"Enter some value: \")\n",
        "print(\"The value you just entered is: \", inp_value)"
      ],
      "metadata": {
        "id": "QWHHMk6r5np0"
      },
      "execution_count": 8,
      "outputs": []
    },
    {
      "cell_type": "markdown",
      "source": [
        "Let's try something simple.  We'll ask the user to input a number and check if it matches the number 10.0\n",
        "\n",
        "Now, go ahead and input the number 10.0 - Don't be concerned if the result isn't what you expect"
      ],
      "metadata": {
        "id": "bA851WiJ6IqT"
      }
    },
    {
      "cell_type": "code",
      "source": [
        "inp_value = input(\"Enter a number: \")\n",
        "\n",
        "#Let's do comparision!\n",
        "print(inp_value==10.0)"
      ],
      "metadata": {
        "colab": {
          "base_uri": "https://localhost:8080/"
        },
        "id": "fdYc09UuiUxv",
        "outputId": "bca4ae95-cda3-48cc-c6b1-35173c54b73a"
      },
      "execution_count": 9,
      "outputs": [
        {
          "output_type": "stream",
          "name": "stdout",
          "text": [
            "Enter a number: 10.0\n",
            "False\n"
          ]
        }
      ]
    },
    {
      "cell_type": "markdown",
      "source": [
        "We entered 10.0, but why did the comparison result in 'False'?\n",
        "\n",
        "This is because the input() treats everything you type as text, even if it looks like a number. So, when you input 10.0, it's treated as text \"10.0\" (enclosed in double quotes), which is different from 10.0 - a number with decimal point like (no quotes)\n",
        "\n",
        "**An essential concept to grasp is that data comes in various types, including strings, floats, integers, and more. For now, we'll focus on just two of these data types**\n",
        "\n",
        "1. **String data type**: In python, when you put something in quotes, it's considered as text and is referred to as type String/Str\n",
        "2. **Float data type**: Numbers with a decimal point are called floating point numbers/float\n",
        "\n",
        ">Practice: Explore the String and Float data types below"
      ],
      "metadata": {
        "id": "7KrT3dqZii1L"
      }
    },
    {
      "cell_type": "code",
      "source": [
        "# Lets do comparisons!\n",
        "a = 10.0\n",
        "b = \"10.0\"\n",
        "\n",
        "# You can check the type using type ()\n",
        "print(type(a))\n",
        "print(type(b))\n",
        "\n",
        "# The following will result in False because a and b are of different data types\n",
        "print(a == b)\n"
      ],
      "metadata": {
        "colab": {
          "base_uri": "https://localhost:8080/"
        },
        "id": "JzPaPGf1lCIy",
        "outputId": "ba60ec09-6aeb-4e94-c0e1-f143fc4eb63a"
      },
      "execution_count": 10,
      "outputs": [
        {
          "output_type": "stream",
          "name": "stdout",
          "text": [
            "<class 'float'>\n",
            "<class 'str'>\n",
            "False\n"
          ]
        }
      ]
    },
    {
      "cell_type": "markdown",
      "source": [
        ">Consider the scenario: You have one eAG measurement in mmol/L at 10, and another eAG measurement in mg/dL also at 10. You can't directly compare them and claim they're equal because they're in different units. To make a fair comparison, we need to convert them to the same unit\n",
        "\n",
        "\n",
        "Likewise, we should convert either variable `a` or variable `b` to make a fair comparision. Let's proceed by converting `b` to a float type. Now, both `a and b` are of the data type float"
      ],
      "metadata": {
        "id": "sq6PlsgtJwz3"
      }
    },
    {
      "cell_type": "code",
      "source": [
        "a = 10.0\n",
        "b = \"10.0\"\n",
        "\n",
        "b = float(b)\n",
        "\n",
        "# Now both a and b are of the same data type\n",
        "print(a == b)"
      ],
      "metadata": {
        "id": "Tdz-WUVIYXVl",
        "colab": {
          "base_uri": "https://localhost:8080/"
        },
        "outputId": "4192b556-8368-44f4-9021-6f4051f30a15"
      },
      "execution_count": null,
      "outputs": [
        {
          "output_type": "stream",
          "name": "stdout",
          "text": [
            "True\n"
          ]
        }
      ]
    },
    {
      "cell_type": "markdown",
      "source": [
        "\n",
        "\n",
        "> Task 6. Let's convert the variable `a` to the string data type using the str( ). This will ensure that the following code returns 'True'.\n"
      ],
      "metadata": {
        "id": "SaRmLOoVlQdO"
      }
    },
    {
      "cell_type": "code",
      "source": [
        "a = 10\n",
        "b = \"10\"\n",
        "\n",
        "# Add code to convert variable \"a\" to string type using str() in line below to print True\n",
        "\n",
        "\n",
        "print(a == b)"
      ],
      "metadata": {
        "id": "mqNCOgkuM-di"
      },
      "execution_count": 10,
      "outputs": []
    },
    {
      "cell_type": "code",
      "source": [
        "# @title Task 6 Solution\n",
        "\n",
        "a = 10\n",
        "b = \"10\"\n",
        "\n",
        "# Add code to convert variable \"a\" to string type using str()\n",
        "a = str(10)\n",
        "\n",
        "print(a == b)"
      ],
      "metadata": {
        "id": "ARDqUsZNmMsJ",
        "colab": {
          "base_uri": "https://localhost:8080/"
        },
        "outputId": "162fab40-7ba4-45de-f04c-0af0caf6b172",
        "cellView": "form"
      },
      "execution_count": 11,
      "outputs": [
        {
          "output_type": "stream",
          "name": "stdout",
          "text": [
            "True\n"
          ]
        }
      ]
    },
    {
      "cell_type": "markdown",
      "source": [
        "#**Automated BMI Assistant: Putting it all together!**\n",
        "\n",
        "![task_final](https://drive.google.com/uc?id=1ExorSoxAOPFZId98YurxpSdZIqoG1K2q)\n",
        "\n",
        "Prompt the user to enter the following data\n",
        "1. Patient Name\n",
        "2. Weight in Kilograms\n",
        "3. Height in Meters\n",
        "\n",
        "Convert Weight and Height to the appropriate data type so BMI can be calculated\n"
      ],
      "metadata": {
        "id": "2PMt9ThSZPA7"
      }
    },
    {
      "cell_type": "code",
      "source": [
        "#Add code below to complete the Nutribot program. Remember you only need to convert weight and height to floating type\n",
        "\n",
        "\n",
        "\n",
        "\n",
        "\n",
        "\n",
        "\n",
        "bmi = weight/(height * height)\n",
        "\n",
        "\n",
        "if 18.5 <= bmi < 24.9:\n",
        "  print( name, \"has a BMI of\", bmi,  \"which falls within the normal weight range\")\n",
        "else:\n",
        "  print( name, \"has a  BMI of\", bmi,\"which falls outside the normal weight range. Please consult a doctor\")"
      ],
      "metadata": {
        "id": "vxnN3ndRcbAU",
        "colab": {
          "base_uri": "https://localhost:8080/"
        },
        "outputId": "d1503ddb-8ba0-43a3-cbc9-440ad732e8fa"
      },
      "execution_count": null,
      "outputs": [
        {
          "output_type": "stream",
          "name": "stdout",
          "text": [
            "John has a BMI of 24.489795918367346 which falls under the normal weight range\n"
          ]
        }
      ]
    },
    {
      "cell_type": "code",
      "source": [
        "# @title Automated BMI Assistant Complete Code\n",
        "\n",
        "name = input(\"Enter Patient Name: \")\n",
        "weight = input(\"Enter Weight in Kilograms: \")\n",
        "height = input(\"Enter Height in Meters: \")\n",
        "\n",
        "weight = float(weight)\n",
        "height = float(height)\n",
        "\n",
        "bmi = weight / (height * height)\n",
        "\n",
        "if 18.5 <= bmi < 24.9:\n",
        "    print(name, \"has a BMI of\", bmi, \"which falls within the normal weight range\")\n",
        "else:\n",
        "  print(name, \"has a BMI of\", bmi,\"which falls outside the normal weight range. Please consult a doctor\")\n",
        "\n"
      ],
      "metadata": {
        "colab": {
          "base_uri": "https://localhost:8080/"
        },
        "id": "MxS7E5Xea345",
        "outputId": "2d77b30b-cc5f-4b4e-f4cc-3127eb2d27fe"
      },
      "execution_count": 14,
      "outputs": [
        {
          "output_type": "stream",
          "name": "stdout",
          "text": [
            "Enter Patient Name: John Doe\n",
            "Enter Weight in Kilograms: 75\n",
            "Enter Height in Meters: 1.75\n",
            "John Doe has a BMI of 24.489795918367346 which falls within the normal weight range\n"
          ]
        }
      ]
    },
    {
      "cell_type": "markdown",
      "source": [
        "**Amazing job building the Automated BMI Assistant!**\n",
        "![task_final](https://drive.google.com/uc?id=1xOnaLpkA84ef_rWrcNUj3E9FntK7FIiN)"
      ],
      "metadata": {
        "id": "G0Pt5Fzthilv"
      }
    }
  ]
}